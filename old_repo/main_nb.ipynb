{
 "cells": [
  {
   "cell_type": "markdown",
   "metadata": {},
   "source": [
    "## Automated anisotropic resistivity inversion for efficient formation evaluation and uncertainty quantification\n",
    "\n",
    "### Misael M. Morales, Oriyomi Raheem, Ali Eghbali, Michael Pyrcz, Carlos Torres-Verdin\n",
    "***"
   ]
  },
  {
   "cell_type": "code",
   "execution_count": null,
   "metadata": {
    "ExecuteTime": {
     "end_time": "2024-02-09T04:00:29.669546200Z",
     "start_time": "2024-02-09T04:00:29.611739Z"
    }
   },
   "outputs": [],
   "source": [
    "from old_repo.main import *\n",
    "ari = ARI()\n",
    "case1, case2 = ari.load_data()"
   ]
  },
  {
   "cell_type": "markdown",
   "metadata": {},
   "source": [
    "### Case 1"
   ]
  },
  {
   "cell_type": "code",
   "execution_count": null,
   "metadata": {},
   "outputs": [],
   "source": [
    "case1_qinv = ari.quadratic_inversion(case1)"
   ]
  },
  {
   "cell_type": "code",
   "execution_count": null,
   "metadata": {},
   "outputs": [],
   "source": [
    "inv1 = ari.resistivity_inversion(case1, x0=[0.5,1.45], Rvsh=2.813, Rhsh=0.775, \n",
    "                                 Wd_matrix=True, tolerance=1e-10, maxiter=1e5, \n",
    "                                 lambda_reg=1e-8, method='CG', bounds=None)\n",
    "\n",
    "ari.plot_inversion_results(inv1, figsize=(20,12))"
   ]
  },
  {
   "cell_type": "code",
   "execution_count": null,
   "metadata": {},
   "outputs": [],
   "source": [
    "inv1 = ari.resistivity_inversion(case1, x0=[0.5, 1.45], Rvsh=2.813, Rhsh=0.775,\n",
    "                                 Wd_matrix=True, tolerance=1e-10, maxiter=1e5,\n",
    "                                 lambda_reg=1e-8, method='L-BFGS-B', bounds=[(0,1),(None,None)])\n",
    "\n",
    "ari.plot_inversion_results(inv1, figsize=(20,12))"
   ]
  },
  {
   "cell_type": "markdown",
   "metadata": {},
   "source": [
    "### Case 2"
   ]
  },
  {
   "cell_type": "code",
   "execution_count": null,
   "metadata": {},
   "outputs": [],
   "source": [
    "case2_qinv = ari.quadratic_inversion(case2)"
   ]
  },
  {
   "cell_type": "code",
   "execution_count": null,
   "metadata": {},
   "outputs": [],
   "source": [
    "inv2 = ari.resistivity_inversion(case2, x0=[0.5,1.45], Rvsh=4.043, Rhsh=0.674,\n",
    "                                 Wd_matrix=True, tolerance=1e-10, maxiter=1e5, \n",
    "                                 lambda_reg=1e-8, method='CG', bounds=None)\n",
    "\n",
    "ari.plot_inversion_results(inv2, figsize=(20,12))"
   ]
  },
  {
   "cell_type": "code",
   "execution_count": null,
   "metadata": {},
   "outputs": [],
   "source": [
    "inv2 = ari.resistivity_inversion(case2, x0=[0.5,1.45], Rvsh=4.043, Rhsh=0.674, \n",
    "                                 Wd_matrix=True, tolerance=1e-8, maxiter=1e5, \n",
    "                                 lambda_reg=1e-8, method='L-BFGS-B', bounds=[(0,1),(None,None)])\n",
    "\n",
    "ari.plot_inversion_results(inv2, figsize=(20,12))"
   ]
  },
  {
   "cell_type": "markdown",
   "metadata": {},
   "source": [
    "***\n",
    "# END\n",
    "***"
   ]
  }
 ],
 "metadata": {
  "kernelspec": {
   "display_name": "tfenv13",
   "language": "python",
   "name": "python3"
  },
  "language_info": {
   "codemirror_mode": {
    "name": "ipython",
    "version": 3
   },
   "file_extension": ".py",
   "mimetype": "text/x-python",
   "name": "python",
   "nbconvert_exporter": "python",
   "pygments_lexer": "ipython3",
   "version": "3.11.8"
  }
 },
 "nbformat": 4,
 "nbformat_minor": 2
}
