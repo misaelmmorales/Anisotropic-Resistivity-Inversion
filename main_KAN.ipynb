{
 "cells": [
  {
   "cell_type": "markdown",
   "metadata": {},
   "source": [
    "## Automated anisotropic resistivity inversion for efficient formation evaluation and uncertainty quantification\n",
    "\n",
    "### Misael M. Morales, Ali Eghbali, Oriyomi Raheem, Michael Pyrcz, Carlos Torres-Verdin\n",
    "***\n",
    "## KAN-based Inversion (Kolmogorov-Arnold Networks)\n",
    "***"
   ]
  },
  {
   "cell_type": "code",
   "execution_count": null,
   "metadata": {},
   "outputs": [],
   "source": [
    "from main import *\n",
    "\n",
    "check_torch()\n",
    "device = torch.device(\"cuda\" if torch.cuda.is_available() else \"cpu\")\n",
    "case1, case2, synthetic1, synthetic2 = load_all_data()"
   ]
  },
  {
   "cell_type": "code",
   "execution_count": null,
   "metadata": {},
   "outputs": [],
   "source": [
    "from kan import KAN, create_dataset"
   ]
  },
  {
   "cell_type": "code",
   "execution_count": null,
   "metadata": {},
   "outputs": [],
   "source": [
    "f = lambda x: torch.exp(torch.sin(torch.pi*x[:,[0]]) + x[:,[1]]**2)\n",
    "dataset = create_dataset(f, n_var=2)\n",
    "print(dataset['train_input'].shape, dataset['train_label'].shape)\n",
    "print(dataset.keys())"
   ]
  },
  {
   "cell_type": "code",
   "execution_count": null,
   "metadata": {},
   "outputs": [],
   "source": [
    "model = KAN(width=[2,5,1], grid=5, k=3)\n",
    "model.train(dataset, opt='LBFGS', steps=20, lamb=0.1)\n",
    "model.plot()"
   ]
  },
  {
   "cell_type": "code",
   "execution_count": null,
   "metadata": {},
   "outputs": [],
   "source": [
    "y_true = dataset['train_label'].detach().numpy()\n",
    "y_pred = model(dataset['train_input']).detach().numpy()\n",
    "print('True: {} | Pred: {}'.format(y_true.shape, y_pred.shape))"
   ]
  },
  {
   "cell_type": "code",
   "execution_count": null,
   "metadata": {},
   "outputs": [],
   "source": [
    "fig = plt.figure(figsize=(6,5))\n",
    "ax = fig.add_subplot(111)\n",
    "ax.scatter(dataset['train_label'], y_pred)\n",
    "ax.axline([0,0], [1,1], color='k', ls='--')\n",
    "ax.grid(True, which='both', alpha=0.4)\n",
    "ax.set(xlabel='True', ylabel='Pred', title='Prediction', xlim=(0,7.5), ylim=(0,7.5))\n",
    "plt.tight_layout()\n",
    "plt.show()"
   ]
  },
  {
   "cell_type": "code",
   "execution_count": null,
   "metadata": {},
   "outputs": [],
   "source": [
    "fig, axs = plt.subplots(1, 3, figsize=(15,5))\n",
    "ax1, ax2, ax3 = axs\n",
    "\n",
    "im1 = ax1.scatter(dataset['train_input'][:,0], dataset['train_input'][:,1], edgecolor='lightgrey',\n",
    "                    c=dataset['train_label'].squeeze(), vmin=0, vmax=7.5)\n",
    "ax1.set(xlabel='x', ylabel='y', title='f(x,y) | true')\n",
    "ax1.grid(True, which='both', alpha=0.4)\n",
    "cb1 = fig.colorbar(im1, ax=ax1)\n",
    "\n",
    "im2 = ax2.scatter(dataset['train_input'][:,0], dataset['train_input'][:,1], edgecolor='lightgrey',\n",
    "                    c=y_pred, vmin=0, vmax=7.5)\n",
    "ax2.set(xlabel='x', ylabel='y', title='f(x,y) | predicted')\n",
    "ax2.grid(True, which='both', alpha=0.4)\n",
    "cb2 = fig.colorbar(im2, ax=ax2)\n",
    "\n",
    "im3 = ax3.scatter(dataset['train_input'][:,0], dataset['train_input'][:,1], edgecolor='lightgrey',\n",
    "                c=dataset['train_label'].squeeze()-y_pred.squeeze(), cmap='seismic', vmin=-1, vmax=1)\n",
    "ax3.set(xlabel='x', ylabel='y', title='f(x,y) | difference')\n",
    "ax3.grid(True, which='both', alpha=0.4)\n",
    "cb3 = fig.colorbar(im3, ax=ax3)\n",
    "\n",
    "plt.tight_layout()\n",
    "plt.show()"
   ]
  },
  {
   "cell_type": "markdown",
   "metadata": {},
   "source": [
    "***\n",
    "***"
   ]
  },
  {
   "cell_type": "code",
   "execution_count": null,
   "metadata": {},
   "outputs": [],
   "source": [
    "idx = np.random.choice(len(case1), int(len(case1)*0.8), replace=False)\n",
    "zdx = case1.index[idx]\n",
    "\n",
    "jdx = np.setdiff1d(np.arange(len(case1)), idx)\n",
    "wdx = case1.index[jdx]"
   ]
  },
  {
   "cell_type": "code",
   "execution_count": null,
   "metadata": {},
   "outputs": [],
   "source": [
    "mydataset = {'train_input':torch.tensor(case1.loc[zdx,['Rv','Rh']].values), \n",
    "             'train_label':torch.tensor(case1.loc[zdx,['Rv','Rh']].values),\n",
    "             'test_input':torch.tensor(case1.loc[wdx,['Rv','Rh']].values),\n",
    "             'test_label':torch.tensor(case1.loc[wdx,['Rv','Rh']].values)}\n",
    "print('Train:', mydataset['train_input'].shape, mydataset['train_label'].shape)\n",
    "print('Test:', mydataset['test_input'].shape, mydataset['test_label'].shape)"
   ]
  },
  {
   "cell_type": "code",
   "execution_count": null,
   "metadata": {},
   "outputs": [],
   "source": [
    "model = KAN(width=[2,5,2], grid=5, k=3)\n",
    "model.train(mydataset, steps=1);\n",
    "model.plot()\n",
    "\n",
    "y_train_pred = model(mydataset['train_input']).detach().numpy()\n",
    "y_test_pred = model(mydataset['test_input']).detach().numpy()"
   ]
  },
  {
   "cell_type": "code",
   "execution_count": null,
   "metadata": {},
   "outputs": [],
   "source": [
    "y_pred = np.concatenate([y_train_pred, y_test_pred], axis=0)\n",
    "print(y_pred.shape)"
   ]
  },
  {
   "cell_type": "code",
   "execution_count": null,
   "metadata": {},
   "outputs": [],
   "source": [
    "fig, axs = plt.subplots(1, 2, figsize=(6, 7), sharey=True)\n",
    "ax1, ax2 = axs\n",
    "\n",
    "\n",
    "ax1.plot(case1['Rv'], case1.index, c='darkred', label='True Rv')\n",
    "ax1.plot(y_pred[:,0], case1.index, c='k', ls='--', alpha=0.85, label='Predicted Rv')\n",
    "\n",
    "ax2.plot(case1['Rh'], case1.index, c='darkblue', label='True Rh')\n",
    "ax2.plot(y_pred[:,1], case1.index, c='k', ls='--', alpha=0.85, label='Predicted Rh')\n",
    "\n",
    "[ax.set(xscale='log') for ax in axs]\n",
    "[ax.grid(True, which='both', alpha=0.4) for ax in axs]\n",
    "[ax.legend() for ax in axs]\n",
    "ax1.invert_yaxis()\n",
    "plt.tight_layout()\n",
    "plt.show()"
   ]
  },
  {
   "cell_type": "markdown",
   "metadata": {},
   "source": [
    "***\n",
    "# END"
   ]
  }
 ],
 "metadata": {
  "kernelspec": {
   "display_name": "torchy",
   "language": "python",
   "name": "python3"
  },
  "language_info": {
   "codemirror_mode": {
    "name": "ipython",
    "version": 3
   },
   "file_extension": ".py",
   "mimetype": "text/x-python",
   "name": "python",
   "nbconvert_exporter": "python",
   "pygments_lexer": "ipython3",
   "version": "3.11.8"
  }
 },
 "nbformat": 4,
 "nbformat_minor": 2
}
