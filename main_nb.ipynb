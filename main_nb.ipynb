{
 "cells": [
  {
   "cell_type": "markdown",
   "metadata": {},
   "source": [
    "## Automated anisotropic resistivity inversion for efficient formation evaluation and uncertainty quantification\n",
    "\n",
    "### Misael M. Morales, Michael Pyrcz, Carlos Torres-Verdin, 2024\n",
    "***"
   ]
  },
  {
   "cell_type": "code",
   "execution_count": null,
   "metadata": {
    "ExecuteTime": {
     "end_time": "2024-02-09T04:00:29.669546200Z",
     "start_time": "2024-02-09T04:00:29.611739Z"
    }
   },
   "outputs": [],
   "source": [
    "from main import *\n",
    "ari = ARI()"
   ]
  },
  {
   "cell_type": "code",
   "execution_count": null,
   "metadata": {},
   "outputs": [],
   "source": [
    "case1, case2 = ari.load_data()\n",
    "\n",
    "case1_qinv = ari.quadratic_inversion(case1)\n",
    "case2_qinv = ari.quadratic_inversion(case2)"
   ]
  },
  {
   "cell_type": "code",
   "execution_count": null,
   "metadata": {},
   "outputs": [],
   "source": [
    "inv1 = ari.resistivity_inversion(case1)\n",
    "ari.plot_inversion_results(inv1)"
   ]
  },
  {
   "cell_type": "code",
   "execution_count": null,
   "metadata": {},
   "outputs": [],
   "source": [
    "inv2 = ari.resistivity_inversion(case2)\n",
    "ari.plot_inversion_results(inv2)"
   ]
  },
  {
   "cell_type": "markdown",
   "metadata": {},
   "source": [
    "***\n",
    "# END"
   ]
  },
  {
   "cell_type": "code",
   "execution_count": null,
   "metadata": {},
   "outputs": [],
   "source": [
    "case1, case2 = ari.load_data()\n",
    "case1.shape"
   ]
  },
  {
   "cell_type": "code",
   "execution_count": null,
   "metadata": {},
   "outputs": [],
   "source": [
    "class PINNari(nn.Module):\n",
    "    def __init__(self):\n",
    "        super(PINNari, self).__init__()\n",
    "        self.fc1 = nn.Linear(2, 16)\n",
    "        self.fc2 = nn.Linear(16, 2)\n",
    "        \n",
    "    def forward(self, x):\n",
    "        x = self.fc1(x)\n",
    "        x = torch.relu(x)\n",
    "        x = self.fc2(x)\n",
    "        return x"
   ]
  },
  {
   "cell_type": "code",
   "execution_count": null,
   "metadata": {},
   "outputs": [],
   "source": [
    "class PhysicsLoss(nn.Module):\n",
    "    def __init__(self, model, Rvsh, Rhsh):\n",
    "        super(PhysicsLoss, self).__init__()\n",
    "        self.model = model\n",
    "        self.Rvsh = Rvsh\n",
    "        self.Rhsh = Rhsh\n",
    "\n",
    "    def forward(self, Rv_true, Rh_true):\n",
    "        Csh, Rs = self.model(torch.tensor([Rv_true, Rh_true], dtype=torch.float32))\n",
    "        Csh = torch.sigmoid(Csh)\n",
    "        Rs  = torch.abs(Rs)\n",
    "\n",
    "        eq1 = Csh*self.Rvsh + (1-Csh)*Rs - Rv_true\n",
    "        eq2 = Csh/self.Rhsh + (1-Csh)/Rs - 1/Rh_true\n",
    "        eqs = torch.cat([eq1, eq2])\n",
    "        Wd  = torch.cat([1/Rv_true, 1/Rh_true])\n",
    "\n",
    "        loss = torch.norm(Wd*eqs, p=2)**2\n",
    "        return loss"
   ]
  },
  {
   "cell_type": "code",
   "execution_count": null,
   "metadata": {},
   "outputs": [],
   "source": [
    "res_aniso = case1[['Rv','Rh']]\n",
    "Rvsh, Rhsh = np.percentile(res_aniso['Rv'], 90), np.percentile(res_aniso['Rh'], 90)\n",
    "\n",
    "model     = PINNari()\n",
    "optimizer = torch.optim.Adam(model.parameters(), lr=1e-3)\n",
    "criterion = PhysicsLoss(model, Rvsh, Rhsh)\n",
    "\n",
    "epochs = 20\n",
    "for _, row in res_aniso.iterrows():\n",
    "    Rv_true, Rh_true = row['Rv'], row['Rh']\n",
    "    for epoch in range(epochs):\n",
    "        optimizer.zero_grad()\n",
    "        loss = criterion(Rv_true, Rh_true)\n",
    "        loss.backward()\n",
    "        optimizer.step()\n",
    "\n",
    "adjoints = {}\n",
    "for name, param in model.named_parameters():\n",
    "    if param.grad is not None:\n",
    "        adjoints[name] = param.grad.clone().detach()"
   ]
  },
  {
   "cell_type": "code",
   "execution_count": null,
   "metadata": {},
   "outputs": [],
   "source": [
    "pred = model(torch.tensor(case1[['Rv','Rh']].values, dtype=torch.float32))\n",
    "csh_pred = pred[:,1].detach().numpy()\n",
    "rs_pred  = pred[:,0].detach().numpy()\n",
    "sol = pd.DataFrame({'Csh_pred':csh_pred, 'Rs_pred':rs_pred}, index=case1.index)\n",
    "\n",
    "fig, axs = plt.subplots(1,2,figsize=(8,8), sharey=True)\n",
    "ax1, ax2 = axs\n",
    "\n",
    "ax11 = ax1.twiny()\n",
    "ari.plot_curve(ax1, case1, 'GR', 10, 150, 'g', pad=8)\n",
    "ari.plot_curve(ax11, sol, 'Csh_pred', -1, 2, 'k')\n",
    "\n",
    "\n",
    "ax21, ax22 = ax2.twiny(), ax2.twiny()\n",
    "ari.plot_curve(ax2, case1, 'Rv', 0.02, 200, 'r', semilog=True, pad=8)\n",
    "ari.plot_curve(ax21, case1, 'Rh', 0.02, 200, 'b', semilog=True, pad=16)\n",
    "ari.plot_curve(ax22, sol, 'Rs_pred', 0.02, 200, 'k', semilog=True)\n",
    "\n",
    "[ax.grid(True, which='both') for ax in axs]\n",
    "ax1.invert_yaxis()\n",
    "plt.show()"
   ]
  },
  {
   "cell_type": "code",
   "execution_count": null,
   "metadata": {},
   "outputs": [],
   "source": [
    "class pinnARI(nn.Module):\n",
    "    def __init__(self):\n",
    "        super(pinnARI, self).__init__()\n",
    "        self.fc1 = nn.Linear(2, 10)\n",
    "        self.fc2 = nn.Linear(10, 2)\n",
    "\n",
    "    def forward(self, x):\n",
    "        x = self.fc1(x)\n",
    "        x = self.fc2(x)\n",
    "        return x"
   ]
  },
  {
   "cell_type": "code",
   "execution_count": null,
   "metadata": {},
   "outputs": [],
   "source": [
    "class CustomDataset(Dataset):\n",
    "    def __init__(self, dataframe):\n",
    "        self.data = torch.tensor(dataframe.values, dtype=torch.float32)\n",
    "\n",
    "    def __len__(self):\n",
    "        return len(self.data)\n",
    "\n",
    "    def __getitem__(self, idx):\n",
    "        return self.data[idx]"
   ]
  },
  {
   "cell_type": "code",
   "execution_count": null,
   "metadata": {},
   "outputs": [],
   "source": [
    "class CustomLoss(nn.Module):\n",
    "    def __init__(self, Rvsh, Rhsh, lambda_reg=1e-6):\n",
    "        super(CustomLoss, self).__init__()\n",
    "        self.Rvsh = Rvsh\n",
    "        self.Rhsh = Rhsh\n",
    "        self.lambda_reg = lambda_reg\n",
    "\n",
    "    def forward(self, outputs, targets):\n",
    "        Rv_true, Rh_true = targets[:, 0], targets[:, 1]\n",
    "\n",
    "        Csh_pred = torch.sigmoid(outputs[:, 0])  # Csh in [0, 1]\n",
    "        Rs_pred  = torch.exp(outputs[:, 1])      # Rs > 0\n",
    "\n",
    "        Rv_sim = Csh_pred * self.Rvsh + (1 - Csh_pred) * Rs_pred\n",
    "        Rh_sim = 1 / (Csh_pred / self.Rhsh + (1 - Csh_pred) / Rs_pred)\n",
    "\n",
    "        v_err = (Rv_sim - Rv_true)**2\n",
    "        h_err = (Rh_sim - Rh_true)**2\n",
    "        t_err = torch.cat([v_err, h_err])\n",
    "\n",
    "        error = torch.mean(t_err) + self.lambda_reg*torch.norm(outputs)\n",
    "        return error"
   ]
  },
  {
   "cell_type": "code",
   "execution_count": null,
   "metadata": {},
   "outputs": [],
   "source": [
    "res_aniso  = case1[['Rv','Rh']]\n",
    "Rvsh, Rhsh = np.percentile(res_aniso['Rv'], 90), np.percentile(res_aniso['Rh'], 90)\n",
    "\n",
    "dataset    = CustomDataset(res_aniso)\n",
    "dataloader = DataLoader(dataset, batch_size=32, shuffle=True)"
   ]
  },
  {
   "cell_type": "code",
   "execution_count": null,
   "metadata": {},
   "outputs": [],
   "source": [
    "device    = torch.device('cuda' if torch.cuda.is_available() else 'cpu')\n",
    "model     = pinnARI().to(device)\n",
    "criterion = CustomLoss(Rvsh, Rhsh)\n",
    "optimizer = torch.optim.Adam(model.parameters(), lr=1e-3)\n",
    "\n",
    "total_loss = []\n",
    "num_epochs, monitor = 300, 20\n",
    "for epoch in range(num_epochs):\n",
    "    epoch_loss = 0.0\n",
    "    for batch in dataloader:\n",
    "        optimizer.zero_grad()\n",
    "        batch   = batch.to(device)\n",
    "        outputs = model(batch)\n",
    "        loss    = criterion(outputs, batch)\n",
    "        loss.backward()\n",
    "        optimizer.step()\n",
    "        epoch_loss += loss.item()\n",
    "    total_loss.append(epoch_loss)\n",
    "    if (epoch+1) % monitor == 0:\n",
    "        print('Epoch [{}/{}] | Loss: {:.4f}'.format(epoch+1, num_epochs, epoch_loss))"
   ]
  },
  {
   "cell_type": "code",
   "execution_count": null,
   "metadata": {},
   "outputs": [],
   "source": [
    "row = 123\n",
    "\n",
    "u = torch.Tensor(case1[['Rv','Rh']].iloc[row].values).to(device)\n",
    "print(model(u))\n",
    "\n",
    "plt.figure(figsize=(6,3))\n",
    "plt.plot(range(num_epochs), total_loss)\n",
    "plt.tight_layout(); plt.show()"
   ]
  },
  {
   "cell_type": "code",
   "execution_count": null,
   "metadata": {},
   "outputs": [],
   "source": []
  }
 ],
 "metadata": {
  "kernelspec": {
   "display_name": "tfenv13",
   "language": "python",
   "name": "python3"
  },
  "language_info": {
   "codemirror_mode": {
    "name": "ipython",
    "version": 3
   },
   "file_extension": ".py",
   "mimetype": "text/x-python",
   "name": "python",
   "nbconvert_exporter": "python",
   "pygments_lexer": "ipython3",
   "version": "3.10.13"
  }
 },
 "nbformat": 4,
 "nbformat_minor": 2
}
