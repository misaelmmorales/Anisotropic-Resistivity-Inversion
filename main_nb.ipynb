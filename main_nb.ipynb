{
 "cells": [
  {
   "cell_type": "markdown",
   "metadata": {},
   "source": [
    "## Automated anisotropic resistivity inversion for efficient formation evaluation and uncertainty quantification\n",
    "\n",
    "### Misael M. Morales, Michael Pyrcz, Carlos Torres-Verdin, 2024\n",
    "***"
   ]
  },
  {
   "cell_type": "code",
   "execution_count": null,
   "metadata": {
    "ExecuteTime": {
     "end_time": "2024-02-09T04:00:29.669546200Z",
     "start_time": "2024-02-09T04:00:29.611739Z"
    }
   },
   "outputs": [],
   "source": [
    "from main import *\n",
    "ari = ARI()"
   ]
  },
  {
   "cell_type": "code",
   "execution_count": null,
   "metadata": {},
   "outputs": [],
   "source": [
    "case1, case2 = ari.load_data()"
   ]
  },
  {
   "cell_type": "code",
   "execution_count": null,
   "metadata": {},
   "outputs": [],
   "source": [
    "case1_qinv = ari.quadratic_inversion(case1)\n",
    "case1_inv  = ari.resistivity_inversion(case1)"
   ]
  },
  {
   "cell_type": "code",
   "execution_count": null,
   "metadata": {},
   "outputs": [],
   "source": [
    "fig, axs = plt.subplots(1, 5, figsize=(15,12), sharey=True, facecolor='white')\n",
    "ax1, ax2, ax3, ax4, ax5 = axs\n",
    "\n",
    "ax11, ax12 = ax1.twiny(), ax1.twiny()\n",
    "ari.plot_curve(ax1,  case1_inv, 'GR',      lb=0, ub=150, color='g',    units='API',  pad=0)\n",
    "ari.plot_curve(ax11, case1_inv, 'Csh_lin', lb=0, ub=1,   color='gray', units='frac', pad=8)\n",
    "ari.plot_curve(ax12, case1_inv, 'Csh',     lb=0, ub=1,   color='k',    units='frac', ls='--', pad=16)\n",
    "\n",
    "ax21, ax22 = ax2.twiny(), ax2.twiny()\n",
    "ari.plot_curve(ax2,  case1_inv, 'AT10', lb=0.2, ub=50, color='r', units='$\\Omega.m$', semilog=True, pad=0)\n",
    "ari.plot_curve(ax21, case1_inv, 'AT90', lb=0.2, ub=50, color='b', units='$\\Omega.m$', semilog=True, pad=8)\n",
    "ari.plot_curve(ax22, case1_inv, 'Rs',   lb=0.2, ub=200, color='k', units='$\\Omega.m$', alpha=0.75, semilog=True, pad=16)\n",
    "\n",
    "ax31, ax32 = ax3.twiny(), ax3.twiny()\n",
    "ari.plot_curve(ax3,  case1_inv, 'Rv',     lb=0.2, ub=100, color='darkred',  units='$\\Omega.m$',   semilog=True, pad=0)\n",
    "ari.plot_curve(ax31, case1_inv, 'Rv_sim', lb=0.2, ub=100, color='k', units='$\\Omega.m$', ls='--', alpha=0.75, semilog=True, pad=8)\n",
    "ari.plot_curve(ax32,  case1_inv, 'Rv_err', lb=1e-9, ub=100, color='red', units='%', alpha=0.5, pad=16)\n",
    "\n",
    "ax41, ax42 = ax4.twiny(), ax4.twiny()\n",
    "ari.plot_curve(ax4,  case1_inv, 'Rh',     lb=0.2, ub=100, color='darkblue',  units='$\\Omega.m$',  semilog=True, pad=0)\n",
    "ari.plot_curve(ax41, case1_inv, 'Rh_sim', lb=0.2, ub=100, color='k', units='$\\Omega.m$', alpha=0.75, ls='--', semilog=True, pad=8)\n",
    "ari.plot_curve(ax42, case1_inv, 'Rh_err', lb=1e-9, ub=100, color='blue', units='%', alpha=0.5, pad=16)\n",
    "\n",
    "ax51, ax52 = ax5.twiny(), ax5.twiny()\n",
    "ari.plot_curve(ax5,  case1_inv, 'fun',      lb=0, ub=0.5,  color='k', pad=0)\n",
    "ari.plot_curve(ax51, case1_inv, 'nfev',     lb=50, ub=300, color='g', alpha=0.75, pad=8)\n",
    "ari.plot_curve(ax52, case1_inv, 'norm_jac', lb=0, ub=25,  color='m', alpha=0.75, pad=16)\n",
    "\n",
    "plt.gca().invert_yaxis()\n",
    "plt.show()"
   ]
  },
  {
   "cell_type": "code",
   "execution_count": null,
   "metadata": {
    "collapsed": false
   },
   "outputs": [],
   "source": []
  },
  {
   "cell_type": "code",
   "execution_count": null,
   "metadata": {
    "collapsed": false
   },
   "outputs": [],
   "source": [
    "from torch.optim import LBFGS\n",
    "from torch.linalg import norm as torch_norm"
   ]
  },
  {
   "cell_type": "code",
   "execution_count": null,
   "metadata": {
    "collapsed": false
   },
   "outputs": [],
   "source": [
    "import torch\n",
    "import pandas as pd\n",
    "from torch.optim import LBFGS\n",
    "from torch.linalg import norm\n",
    "\n",
    "def objective(variables, Rv, Rh):\n",
    "    Csh, Rs = variables\n",
    "    eq1 = (Csh * Rvsh + (1 - Csh) * Rs) - Rv\n",
    "    eq2 = (Csh / Rhsh + (1 - Csh) / Rs) - (1 / Rh)\n",
    "    eqs = [eq1, eq2]\n",
    "    return norm(torch.tensor(eqs)) + lambda_reg * norm(variables)\n",
    "\n",
    "def inversion(df, method='L-BFGS-B'):\n",
    "    res_aniso = df[['Rv', 'Rh']]\n",
    "    sol, fun, jac, nfev = [], [], [], []\n",
    "    for _, row in res_aniso.iterrows():\n",
    "        Rv_value, Rh_value = row['Rv'], row['Rh']\n",
    "        # Initial guess for variables\n",
    "        initial_variables = torch.tensor([0.5, 1.0], requires_grad=True)\n",
    "        # Define the optimizer\n",
    "        optimizer = LBFGS([initial_variables])\n",
    "        # Define the optimization closure\n",
    "        def closure():\n",
    "            optimizer.zero_grad()\n",
    "            loss = objective(initial_variables, Rv_value, Rh_value)\n",
    "            loss.backward()\n",
    "            return loss\n",
    "        # Optimize the objective function\n",
    "        optimizer.step(closure)\n",
    "        # Get the optimized values\n",
    "        optimized_variables = initial_variables.detach().numpy()\n",
    "        # Compute function value and Jacobian\n",
    "        function_value = objective(torch.tensor(optimized_variables), Rv_value, Rh_value).item()\n",
    "        jac_value = torch.autograd.functional.jacobian(lambda x: objective(x, Rv_value, Rh_value), torch.tensor(optimized_variables)).detach().numpy()\n",
    "        # Store results\n",
    "        sol.append({'Rv': Rv_value, 'Rh': Rh_value, 'Csh': optimized_variables[0], 'Rs': optimized_variables[1]})\n",
    "        fun.append(function_value)\n",
    "        jac.append(jac_value)\n",
    "        nfev.append(1)  # Assuming each optimization step counts as one function evaluation\n",
    "    sol = pd.DataFrame(sol, index=res_aniso.index)\n",
    "    sol['fun'], sol['nfev'], sol['jac1'], sol['jac2'] = fun, nfev, [j[0] for j in jac], [j[1] for j in jac]\n",
    "    sol['norm_jac'] = norm(torch.tensor(jac), axis=1)\n",
    "    return sol\n"
   ]
  },
  {
   "cell_type": "code",
   "execution_count": null,
   "metadata": {
    "collapsed": false
   },
   "outputs": [],
   "source": [
    "sol = inversion(case1)\n",
    "sim = simulate(sol)"
   ]
  },
  {
   "cell_type": "code",
   "execution_count": null,
   "metadata": {
    "collapsed": false
   },
   "outputs": [],
   "source": [
    "fig, axs = plt.subplots(3, 1, figsize=(10,5), sharex=True, sharey=True, facecolor='white')\n",
    "ax1, ax2, ax3 = axs\n",
    "\n",
    "ax11 = ax1.twinx()\n",
    "ax1.semilogy(sol.index, sol['Rs'], 'k', label='Rs')\n",
    "ax11.plot(sol.index, sol['Csh'], 'g', label='Csh')\n",
    "ax1.legend(loc='lower left'); ax11.legend(loc='lower right')\n",
    "\n",
    "ax2.semilogy(sol.index, sol['Rv'], 'r', label='Rv')\n",
    "ax2.semilogy(sim.index, sim['Rv_sim'], 'k--', label='Rv_sim')\n",
    "ax2.legend(loc='lower right')\n",
    "\n",
    "ax3.semilogy(sol.index, sol['Rh'], 'b', label='Rh')\n",
    "ax3.semilogy(sim.index, sim['Rh_sim'], 'k--', label='Rh_sim')\n",
    "ax3.legend(loc='lower right')\n",
    "\n",
    "plt.tight_layout()\n",
    "plt.show()"
   ]
  },
  {
   "cell_type": "code",
   "execution_count": null,
   "metadata": {
    "collapsed": false
   },
   "outputs": [],
   "source": []
  },
  {
   "cell_type": "code",
   "execution_count": null,
   "metadata": {
    "collapsed": false
   },
   "outputs": [],
   "source": [
    "Rvsh = torch.varialbe"
   ]
  },
  {
   "cell_type": "code",
   "execution_count": null,
   "metadata": {
    "collapsed": false
   },
   "outputs": [],
   "source": []
  },
  {
   "cell_type": "code",
   "execution_count": null,
   "metadata": {
    "collapsed": false
   },
   "outputs": [],
   "source": []
  },
  {
   "cell_type": "code",
   "execution_count": null,
   "metadata": {
    "collapsed": false
   },
   "outputs": [],
   "source": []
  },
  {
   "cell_type": "markdown",
   "metadata": {},
   "source": [
    "***\n",
    "# END"
   ]
  }
 ],
 "metadata": {
  "kernelspec": {
   "display_name": "tfenv13",
   "language": "python",
   "name": "python3"
  },
  "language_info": {
   "codemirror_mode": {
    "name": "ipython",
    "version": 3
   },
   "file_extension": ".py",
   "mimetype": "text/x-python",
   "name": "python",
   "nbconvert_exporter": "python",
   "pygments_lexer": "ipython3",
   "version": "3.11.5"
  }
 },
 "nbformat": 4,
 "nbformat_minor": 2
}
