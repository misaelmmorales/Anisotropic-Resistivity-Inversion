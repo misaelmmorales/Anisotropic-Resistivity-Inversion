{
 "cells": [
  {
   "cell_type": "markdown",
   "metadata": {},
   "source": [
    "## Automated anisotropic resistivity inversion for efficient formation evaluation and uncertainty quantification\n",
    "\n",
    "### Misael M. Morales, Michael Pyrcz, Carlos Torres-Verdin, 2024\n",
    "***"
   ]
  },
  {
   "cell_type": "code",
   "execution_count": null,
   "metadata": {},
   "outputs": [],
   "source": [
    "from main import *"
   ]
  },
  {
   "cell_type": "code",
   "execution_count": null,
   "metadata": {},
   "outputs": [],
   "source": [
    "column_names = ['AT10','AT30','AT60','AT90','GR','Rv','Rh']\n",
    "index_name   = 'DEPTH'"
   ]
  },
  {
   "cell_type": "code",
   "execution_count": null,
   "metadata": {},
   "outputs": [],
   "source": [
    "well1 = lasio.read('well1.las').df()\n",
    "case1 = well1[['AT10','AT30','AT60','AT90','GR','RV72H_1D', 'RH72H_1D']].dropna()\n",
    "case1.columns = column_names\n",
    "case1.index.name = index_name"
   ]
  },
  {
   "cell_type": "code",
   "execution_count": null,
   "metadata": {},
   "outputs": [],
   "source": [
    "well2 = lasio.read('well2.LAS').df()\n",
    "case2 = well2[['AT10','AT30','AT60','AT90','HCGR','RV72_1DF','RH72_1DF']].dropna()\n",
    "case2.columns = column_names\n",
    "case2.index.name = index_name"
   ]
  },
  {
   "cell_type": "code",
   "execution_count": null,
   "metadata": {},
   "outputs": [],
   "source": [
    "def resistivity_inversion(df, Rvsh=None, Rhsh=None, lambda_reg=1e-4, Wd_matrix:bool=False,\n",
    "                          x0=[0.5, 1.5], method='L-BFGS-B', tol=1e-4, maxiter=500):\n",
    "    if Rvsh is None:\n",
    "        Rvsh = df['Rv'].iloc[np.argmax(df['GR'])]\n",
    "    if Rhsh is None:\n",
    "        Rhsh = df['Rh'].iloc[np.argmax(df['GR'])]\n",
    "\n",
    "    df['Csh_lin'] = (df['GR'] - df['GR'].min()) / (df['GR'].max() - df['GR'].min())\n",
    "\n",
    "    def objective(variables, *args):\n",
    "        Csh, Rs = variables\n",
    "        Rv,  Rh = args[0], args[1]\n",
    "        eq1 = (Csh*Rvsh + (1-Csh)*Rs) - Rv\n",
    "        eq2 = (Csh/Rhsh + (1-Csh)/Rs) - (1/Rh)\n",
    "        eqs = [eq1/Rv, eq2*Rh] if Wd_matrix else [eq1, eq2]\n",
    "        return linalg.norm(eqs) + lambda_reg*linalg.norm(variables)\n",
    "    \n",
    "    def inversion():\n",
    "        res_aniso = df[['Rv','Rh']]\n",
    "        sol, fun, jac, nfev = [], [], [], []\n",
    "        for _, row in res_aniso.iterrows():\n",
    "            Rv_value, Rh_value = row['Rv'], row['Rh']\n",
    "            solution = optimize.minimize(objective,\n",
    "                                         x0      = x0,\n",
    "                                         args    = (Rv_value, Rh_value),\n",
    "                                         bounds  = [(0,1), (None,None)],\n",
    "                                         method  = method,\n",
    "                                         tol     = tol,\n",
    "                                         options = {'maxiter':maxiter})\n",
    "            fun.append(solution.fun); jac.append(solution.jac); nfev.append(solution.nfev)\n",
    "            jac1, jac2 = np.array(jac)[:,0], np.array(jac)[:,1]\n",
    "            sol.append({'Rv':Rv_value, 'Rh':Rh_value, 'Csh':solution.x[0], 'Rs':solution.x[1]})\n",
    "        sol = pd.DataFrame(sol, index=res_aniso.index)\n",
    "        sol['fun'], sol['nfev'], sol['jac1'], sol['jac2'], sol['norm_jac'] = fun, nfev, jac1, jac2, linalg.norm(jac, axis=1)\n",
    "        return sol\n",
    "    \n",
    "    def simulate(sol):\n",
    "        Csh, Rs = sol['Csh'], sol['Rs']\n",
    "        Rv_sim = Csh*Rvsh + (1-Csh)*Rs\n",
    "        Rh_sim = Csh/Rhsh + (1-Csh)/Rs\n",
    "        sim = pd.DataFrame({'Rv_sim':Rv_sim, 'Rh_sim':1/Rh_sim}, index=sol.index)\n",
    "        return sim\n",
    "    \n",
    "    def error(sol, sim):\n",
    "        Rv_true, Rh_true = sol['Rv'], sol['Rh']\n",
    "        Rv_pred, Rh_pred = sim['Rv_sim'], sim['Rh_sim']\n",
    "        Rv_err = np.abs((Rv_pred - Rv_true) / Rv_true) * 100\n",
    "        Rh_err = np.abs((Rh_pred - Rh_true) / Rh_true) * 100\n",
    "        res = pd.DataFrame({'Rv_err':Rv_err, 'Rh_err':Rh_err}, index=sol.index)\n",
    "        return res\n",
    "    \n",
    "    val = df[['AT10','AT30','AT60','AT90','GR','Csh_lin']]\n",
    "    sol = inversion()\n",
    "    sim = simulate(sol)\n",
    "    err = error(sol, sim)\n",
    "    res_inv = val.join(sol).join(sim).join(err)\n",
    "    return res_inv"
   ]
  },
  {
   "cell_type": "code",
   "execution_count": null,
   "metadata": {},
   "outputs": [],
   "source": [
    "case1_inv = resistivity_inversion(case1, Wd_matrix=True)\n",
    "case1_inv"
   ]
  },
  {
   "cell_type": "code",
   "execution_count": null,
   "metadata": {},
   "outputs": [],
   "source": [
    "fig, axs = plt.subplots(1, 5, figsize=(15,8), sharey=True)\n",
    "ax1, ax2, ax3, ax4, ax5 = axs\n",
    "\n",
    "ax11, ax12 = ax1.twiny(), ax1.twiny()\n",
    "plot_curve(ax1,  case1_inv, 'GR',      lb=0, ub=150, color='g',    units='API',  pad=0)\n",
    "plot_curve(ax11, case1_inv, 'Csh_lin', lb=0, ub=1,   color='gray', units='frac', pad=8)\n",
    "plot_curve(ax12, case1_inv, 'Csh',     lb=0, ub=1,   color='k',    units='frac', ls='--', pad=16)\n",
    "\n",
    "ax21, ax22 = ax2.twiny(), ax2.twiny()\n",
    "plot_curve(ax2,  case1_inv, 'AT10', lb=0.2, ub=50, color='r', units='$\\Omega.m$', semilog=True, pad=0)\n",
    "plot_curve(ax21, case1_inv, 'AT90', lb=0.2, ub=50, color='b', units='$\\Omega.m$', semilog=True, pad=8)\n",
    "plot_curve(ax22, case1_inv, 'Rs',   lb=0.2, ub=200, color='k', units='$\\Omega.m$', alpha=0.75, semilog=True, pad=16)\n",
    "\n",
    "ax31, ax32 = ax3.twiny(), ax3.twiny()\n",
    "plot_curve(ax3,  case1_inv, 'Rv',     lb=0.2, ub=100, color='darkred',  units='$\\Omega.m$',   semilog=True, pad=0)\n",
    "plot_curve(ax31, case1_inv, 'Rv_sim', lb=0.2, ub=100, color='k', units='$\\Omega.m$', ls='--', alpha=0.75, semilog=True, pad=8)\n",
    "plot_curve(ax32,  case1_inv, 'Rv_err', lb=1e-9, ub=100, color='red', units='%', alpha=0.5, pad=16)\n",
    "\n",
    "ax41, ax42 = ax4.twiny(), ax4.twiny()\n",
    "plot_curve(ax4,  case1_inv, 'Rh',     lb=0.2, ub=100, color='darkblue',  units='$\\Omega.m$',  semilog=True, pad=0)\n",
    "plot_curve(ax41, case1_inv, 'Rh_sim', lb=0.2, ub=100, color='k', units='$\\Omega.m$', alpha=0.75, ls='--', semilog=True, pad=8)\n",
    "plot_curve(ax42, case1_inv, 'Rh_err', lb=1e-9, ub=100, color='blue', units='%', alpha=0.5, pad=16)\n",
    "\n",
    "ax51, ax52 = ax5.twiny(), ax5.twiny()\n",
    "plot_curve(ax5,  case1_inv, 'fun',      lb=0, ub=0.5,  color='k', pad=0)\n",
    "plot_curve(ax51, case1_inv, 'nfev',     lb=50, ub=300, color='g', alpha=0.75, pad=8)\n",
    "plot_curve(ax52, case1_inv, 'norm_jac', lb=0, ub=25,  color='m', alpha=0.75, pad=16)\n",
    "\n",
    "plt.gca().invert_yaxis()\n",
    "plt.show()"
   ]
  },
  {
   "cell_type": "code",
   "execution_count": null,
   "metadata": {},
   "outputs": [],
   "source": [
    "import torch\n",
    "import torch.nn as nn\n",
    "import torch.optim as optim"
   ]
  },
  {
   "cell_type": "code",
   "execution_count": null,
   "metadata": {},
   "outputs": [],
   "source": [
    "class Objective(nn.Module):\n",
    "    def __init__(self, lambda_reg=1e-4, Wd_matrix:bool=False):\n",
    "        super(Objective, self).__init__()\n",
    "        self.Rvsh = nn.Parameter(torch.tensor(1.0))\n",
    "        self.Rhsh = nn.Parameter(torch.tensor(1.0))\n",
    "        self.Csh  = nn.Parameter(torch.tensor(0.5))\n",
    "        self.Rs   = nn.Parameter(torch.tensor(1.0))\n",
    "        self.lambda_reg = lambda_reg\n",
    "        self.Wd_matrix = Wd_matrix\n",
    "\n",
    "        self.Rv, self.Rh = None, None\n",
    "        self.Csh_lin = None\n",
    "        self.fun, self.jac, self.nfev = None, None, None\n",
    "        self.sol, self.sim, self.err  = None, None, None\n",
    "\n",
    "        self.loss = None\n",
    "    \n",
    "    def forward(self, Rv, Rh):\n",
    "        self.Rv, self.Rh = Rv, Rh\n",
    "        self.Csh_lin = (self.GR - self.GR.min()) / (self.GR.max() - self.GR.min())\n",
    "        eq1 = (self.Csh*self.Rvsh + (1-self.Csh)*self.Rs) - self.Rv\n",
    "        eq2 = (self.Csh/self.Rhsh + (1-self.Csh)/self.Rs) - (1/self.Rh)\n",
    "        self.fun = torch.norm(torch.stack([eq1/self.Rv, eq2*self.Rh])) + self.lambda_reg*torch.norm(torch.stack([self.Csh, self.Rs]))\n",
    "        self.jac = torch.autograd.grad(self.fun, [self.Csh, self.Rs], create_graph=True)\n",
    "        self.nfev = 1\n",
    "        self.sol = {'Rv':self.Rv, 'Rh':self.Rh, 'Csh':self.Csh, 'Rs':self.Rs}\n",
    "        self.sim = {'Rv_sim':self.Csh*self.Rvsh + (1-self.Csh)*self.Rs, 'Rh_sim':1/(self.Csh/self.Rhsh + (1-self.Csh)/self.Rs)}\n",
    "        self.err = {'Rv_err':torch.abs((self.sim['Rv_sim'] - self.sol['Rv']) / self.sol['Rv']) * 100,\n",
    "                    'Rh_err':torch.abs((self.sim['Rh_sim'] - self.sol['Rh']) / self.sol['Rh']) * 100}\n",
    "        self.res = {'Rv':self.Rv, 'Rh':self.Rh, 'Csh':self.Csh_lin, 'Rs':self.Rs,\n",
    "                    'Rv_sim':self.sim['Rv_sim'], 'Rh_sim':self.sim['Rh_sim'],\n",
    "                    'Rv_err':self.err['Rv_err'], 'Rh_err':self.err['Rh_err']}\n",
    "        self.loss = self.fun\n",
    "        return self.loss + self.lambda_reg*torch.norm(torch.stack([self.Csh, self.Rs]))"
   ]
  },
  {
   "cell_type": "code",
   "execution_count": null,
   "metadata": {},
   "outputs": [],
   "source": []
  },
  {
   "cell_type": "code",
   "execution_count": null,
   "metadata": {},
   "outputs": [],
   "source": [
    "model = Y()\n",
    "\n",
    "optimizer = optim.Adam(model.parameters(), lr=1e-3)\n",
    "\n",
    "epoch = 0\n",
    "\n"
   ]
  },
  {
   "cell_type": "markdown",
   "metadata": {},
   "source": [
    "***\n",
    "# END"
   ]
  }
 ],
 "metadata": {
  "kernelspec": {
   "display_name": "tfenv13",
   "language": "python",
   "name": "python3"
  },
  "language_info": {
   "codemirror_mode": {
    "name": "ipython",
    "version": 3
   },
   "file_extension": ".py",
   "mimetype": "text/x-python",
   "name": "python",
   "nbconvert_exporter": "python",
   "pygments_lexer": "ipython3",
   "version": "3.10.13"
  }
 },
 "nbformat": 4,
 "nbformat_minor": 2
}
