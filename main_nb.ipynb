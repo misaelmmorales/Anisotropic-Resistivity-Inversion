{
 "cells": [
  {
   "cell_type": "markdown",
   "metadata": {},
   "source": [
    "## Automated anisotropic resistivity inversion for efficient formation evaluation and uncertainty quantification\n",
    "\n",
    "### Misael M. Morales, Michael Pyrcz, Carlos Torres-Verdin, 2024\n",
    "***"
   ]
  },
  {
   "cell_type": "code",
   "execution_count": null,
   "metadata": {
    "ExecuteTime": {
     "end_time": "2024-02-09T04:00:29.669546200Z",
     "start_time": "2024-02-09T04:00:29.611739Z"
    }
   },
   "outputs": [],
   "source": [
    "from main import *\n",
    "ari = ARI()"
   ]
  },
  {
   "cell_type": "code",
   "execution_count": null,
   "metadata": {},
   "outputs": [],
   "source": [
    "case1, case2 = ari.load_data()\n",
    "\n",
    "case1_qinv = ari.quadratic_inversion(case1)\n",
    "case2_qinv = ari.quadratic_inversion(case2)"
   ]
  },
  {
   "cell_type": "code",
   "execution_count": null,
   "metadata": {},
   "outputs": [],
   "source": [
    "inv1 = ari.resistivity_inversion(case1)\n",
    "ari.plot_inversion_results(inv1)"
   ]
  },
  {
   "cell_type": "code",
   "execution_count": null,
   "metadata": {},
   "outputs": [],
   "source": [
    "inv2 = ari.resistivity_inversion(case2)\n",
    "ari.plot_inversion_results(inv2)"
   ]
  },
  {
   "cell_type": "markdown",
   "metadata": {},
   "source": [
    "***\n",
    "# END"
   ]
  }
 ],
 "metadata": {
  "kernelspec": {
   "display_name": "tfenv13",
   "language": "python",
   "name": "python3"
  },
  "language_info": {
   "codemirror_mode": {
    "name": "ipython",
    "version": 3
   },
   "file_extension": ".py",
   "mimetype": "text/x-python",
   "name": "python",
   "nbconvert_exporter": "python",
   "pygments_lexer": "ipython3",
   "version": "3.11.7"
  }
 },
 "nbformat": 4,
 "nbformat_minor": 2
}
