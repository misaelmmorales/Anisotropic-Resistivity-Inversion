{
 "cells": [
  {
   "cell_type": "markdown",
   "metadata": {},
   "source": [
    "## Automated anisotropic resistivity inversion for efficient formation evaluation and uncertainty quantification\n",
    "\n",
    "### Misael M. Morales, Ali Eghbali, Oriyomi Raheem, Michael Pyrcz, Carlos Torres-Verdin\n",
    "***\n",
    "## PINN-based Inversion (PyTorch)\n",
    "***"
   ]
  },
  {
   "cell_type": "code",
   "execution_count": 1,
   "metadata": {},
   "outputs": [
    {
     "name": "stdout",
     "output_type": "stream",
     "text": [
      "\n",
      "------------------------------------------------------------\n",
      "----------------------- VERSION INFO -----------------------\n",
      "Torch version: 2.7.1+cu126 | Torch Built with CUDA? True\n",
      "# Device(s) available: 1, Name(s): NVIDIA GeForce RTX 3090\n",
      "------------------------------------------------------------\n",
      "\n",
      "Name              : Source                : Shape\n",
      "----------------- : --------------------- : -----------\n",
      "Field Case 1      : (North Africa)        : (2399, 12)\n",
      "Field Case 2      : (North Sea)           : (11143, 12)\n",
      "Synthetic Case 1  : (Laminated)           : (801, 14)\n",
      "Synthetic Case 2  : (Laminated+Dispersed) : (415, 10)\n"
     ]
    }
   ],
   "source": [
    "from main import *\n",
    "\n",
    "check_torch()\n",
    "device = torch.device(\"cuda\" if torch.cuda.is_available() else \"cpu\")\n",
    "\n",
    "case1, case2, synthetic1, synthetic2 = load_all_data()"
   ]
  },
  {
   "cell_type": "markdown",
   "metadata": {},
   "source": [
    "***\n",
    "### Physics-informed neural network inversion"
   ]
  },
  {
   "cell_type": "code",
   "execution_count": 2,
   "metadata": {},
   "outputs": [],
   "source": [
    "class PINNLoss(nn.Module):\n",
    "    def __init__(self, dd_flag:bool=True, ddmax=100, lambda_reg=1e-10, lambda_p=2):\n",
    "        super(PINNLoss, self).__init__()\n",
    "        self.lambda_reg = lambda_reg\n",
    "        self.lambda_p   = lambda_p\n",
    "        self.dd_flag    = dd_flag\n",
    "        self.ddmax      = ddmax\n",
    "\n",
    "    def forward(self, inputs, outputs):\n",
    "        Rv_true  = inputs[:, 0]\n",
    "        Rh_true  = inputs[:, 1]\n",
    "        dd_true  = inputs[:, 2]/self.ddmax\n",
    "        Rvsh     = inputs[:, 3]\n",
    "        Rhsh     = inputs[:, 4]\n",
    "        Csh_pred = outputs[:, 0]\n",
    "        Rss_pred = outputs[:, 1]\n",
    "\n",
    "        eq1 = (Csh_pred*Rvsh + (1-Csh_pred)*Rss_pred) - (Rv_true)\n",
    "        eq2 = 1/(Csh_pred/Rhsh + (1-Csh_pred)/Rss_pred) - (Rh_true)\n",
    "        eqs = torch.stack([eq1, eq2], dim=-1)\n",
    "\n",
    "        if self.dd_flag:\n",
    "            wd1, wd2 = 1/Rv_true/dd_true, 1*Rh_true/dd_true\n",
    "        else:\n",
    "            wd1, wd2 = 1/Rv_true, 1*Rh_true\n",
    "        Wdm = torch.stack([wd1, wd2], dim=-1)\n",
    "\n",
    "        costf = torch.norm(torch.matmul(Wdm.T, eqs), p=2)\n",
    "        regPa = self.lambda_reg*torch.norm(outputs, p=self.lambda_p)\n",
    "\n",
    "        return  costf + regPa"
   ]
  },
  {
   "cell_type": "code",
   "execution_count": 3,
   "metadata": {},
   "outputs": [],
   "source": [
    "class DataLoss(nn.Module):\n",
    "    def __init__(self, loss_fn=nn.MSELoss(), lambda_p=2):\n",
    "        super(DataLoss, self).__init__()\n",
    "        self.dd_loss = loss_fn\n",
    "        self.lambda_p = lambda_p\n",
    "\n",
    "    def forward(self, inputs, outputs):\n",
    "        Rv_true  = inputs[:, 0]\n",
    "        Rh_true  = inputs[:, 1]\n",
    "        dd_true  = inputs[:, 2]\n",
    "        Rvsh     = inputs[:, 3]\n",
    "        Rhsh     = inputs[:, 4]\n",
    "        Csh_pred = outputs[:, 0]\n",
    "        Rss_pred = outputs[:, 1]\n",
    "        Rv_sim = (Csh_pred*Rvsh + (1-Csh_pred)*Rss_pred)\n",
    "        Rh_sim = 1/(Csh_pred/Rhsh + (1-Csh_pred)/Rss_pred)\n",
    "        v_loss = self.dd_loss(Rv_sim, Rv_true)\n",
    "        h_loss = self.dd_loss(Rh_sim, Rh_true)\n",
    "        return torch.norm(torch.stack([v_loss, h_loss], dim=-1), p=self.lambda_p)"
   ]
  },
  {
   "cell_type": "code",
   "execution_count": 4,
   "metadata": {},
   "outputs": [],
   "source": [
    "class ResInvPINN(nn.Module):\n",
    "    def __init__(self, hidden_dim:int=128, csh_constraint_mult=1.0):\n",
    "        super(ResInvPINN, self).__init__()\n",
    "        self.fc1  = nn.Linear(2, hidden_dim)\n",
    "        self.fc2  = nn.Linear(hidden_dim, hidden_dim)\n",
    "        self.fc3  = nn.Linear(hidden_dim, 2)\n",
    "        self.mult = csh_constraint_mult\n",
    "\n",
    "    def constraints(self, d):\n",
    "        c, s = d[:, 0], d[:, 1]\n",
    "        c = self.mult*torch.sigmoid(c)\n",
    "        return torch.stack([c, s], dim=-1)\n",
    "       \n",
    "    def forward(self, x):\n",
    "        x = x[:, :2]\n",
    "        \n",
    "        x = self.fc1(x)\n",
    "        x = nn.Tanh()(x)\n",
    "\n",
    "        x = self.fc2(x)\n",
    "        x = nn.Tanhshrink()(x)\n",
    "\n",
    "        x = self.fc3(x)\n",
    "        x = self.constraints(x)\n",
    "\n",
    "        return x"
   ]
  },
  {
   "cell_type": "markdown",
   "metadata": {},
   "source": [
    "***"
   ]
  },
  {
   "cell_type": "code",
   "execution_count": 5,
   "metadata": {},
   "outputs": [
    {
     "name": "stdout",
     "output_type": "stream",
     "text": [
      "Data_all: (13896, 18)\n"
     ]
    }
   ],
   "source": [
    "column_names = ['CALI', 'AT10', 'AT30', 'AT60', 'AT90', 'GR', 'Rv', 'Rh', 'Rvsh', 'Rhsh']\n",
    "\n",
    "zstart = int(np.argwhere(case1.index==9720).squeeze())\n",
    "zend   = int(np.argwhere(case1.index==10110).squeeze())\n",
    "data1  = case1.iloc[zstart:zend]\n",
    "\n",
    "zstart = int(np.argwhere(case2.index==6292.75).squeeze())\n",
    "zend   = int(np.argwhere(case2.index==9078.25).squeeze())\n",
    "data2  = case2.iloc[zstart:zend]\n",
    "\n",
    "data3 = synthetic1.dropna()\n",
    "data4 = synthetic2.dropna()\n",
    "\n",
    "data_all = pd.concat([data1, data2, data3, data4], ignore_index=False)\n",
    "print('Data_all: {}'.format(data_all.shape))"
   ]
  },
  {
   "cell_type": "code",
   "execution_count": null,
   "metadata": {},
   "outputs": [],
   "source": [
    "dd = 'GR'\n",
    "res_aniso = data_all[['Rv','Rh', dd, 'Rvsh', 'Rhsh']].dropna()\n",
    "inputs = torch.tensor(res_aniso.values, dtype=torch.float32).to(device)\n",
    "print('Inputs: {}'.format(inputs.shape))"
   ]
  },
  {
   "cell_type": "code",
   "execution_count": null,
   "metadata": {},
   "outputs": [],
   "source": [
    "inputs.max()"
   ]
  },
  {
   "cell_type": "code",
   "execution_count": null,
   "metadata": {},
   "outputs": [],
   "source": [
    "dataset        = TensorDataset(inputs)\n",
    "train_percent  = 0.8\n",
    "n_train        = int(train_percent*len(dataset))\n",
    "xtrain, xvalid = random_split(dataset, [n_train, len(dataset)-n_train])\n",
    "print('X_train: {} | X_valid: {}'.format(len(xtrain), len(xvalid)))\n",
    "\n",
    "batch_size  = 32\n",
    "trainloader = DataLoader(xtrain, batch_size=batch_size, shuffle=True)\n",
    "validloader = DataLoader(xvalid, batch_size=batch_size, shuffle=True)"
   ]
  },
  {
   "cell_type": "code",
   "execution_count": null,
   "metadata": {},
   "outputs": [],
   "source": [
    "model     = ResInvPINN(hidden_dim=150).to(device)\n",
    "\n",
    "criterion = PINNLoss(ddmax=data_all[dd].max(), lambda_reg=0, dd_flag=True).to(device)\n",
    "mseloss   = DataLoss().to(device)\n",
    "\n",
    "optimizer = torch.optim.Adam(params=model.parameters(), lr=1e-3)\n",
    "\n",
    "print('# of Parameters: {:,}'.format(sum(p.numel() for p in model.parameters() if p.requires_grad)))"
   ]
  },
  {
   "cell_type": "code",
   "execution_count": null,
   "metadata": {},
   "outputs": [],
   "source": [
    "epochs, monitor = 301, 100\n",
    "pinn_lambda = 0.85\n",
    "train_loss, valid_loss = [], []\n",
    "for epoch in range(epochs):\n",
    "    # training\n",
    "    epoch_train_loss = []\n",
    "    model.train()\n",
    "    for i, x in enumerate(trainloader):\n",
    "        optimizer.zero_grad()\n",
    "        y = model(x[0])\n",
    "        loss = (pinn_lambda)*criterion(x[0], y) + (1-pinn_lambda)*mseloss(x[0], y)\n",
    "        loss.backward()\n",
    "        optimizer.step()\n",
    "        epoch_train_loss.append(loss.item())\n",
    "    train_loss.append(np.mean(epoch_train_loss))\n",
    "    # validation\n",
    "    model.eval()\n",
    "    epoch_valid_loss = []\n",
    "    with torch.no_grad():\n",
    "        for x in validloader:\n",
    "            y = model(x[0])\n",
    "            loss = (pinn_lambda)*criterion(x[0], y) + (1-pinn_lambda)*mseloss(x[0], y)\n",
    "            epoch_valid_loss.append(loss.item())\n",
    "        valid_loss.append(np.mean(epoch_valid_loss))\n",
    "    # progress\n",
    "    if epoch % monitor == 0:\n",
    "        print('Epoch: {} | Loss: {:.4f} | Valid Loss: {:.4f}'.format(epoch, train_loss[-1], valid_loss[-1]))\n",
    "\n",
    "torch.save(model.state_dict(), 'models/model_all.pth')\n",
    "losses = (train_loss, valid_loss)\n",
    "plot_loss(losses)"
   ]
  },
  {
   "cell_type": "code",
   "execution_count": null,
   "metadata": {},
   "outputs": [],
   "source": [
    "y_pred = model(inputs[:,:2]).cpu().detach().numpy().squeeze()\n",
    "Csh_pred, Rss_pred = [y_pred[:, i] for i in range(y_pred.shape[1])]\n",
    "print('Csh:', ' '*15, 'min: {:.3f}  | max: {:.3f}'.format(Csh_pred.min(), Csh_pred.max()))\n",
    "\n",
    "Rv_true = res_aniso['Rv'].values\n",
    "Rh_true = res_aniso['Rh'].values\n",
    "Rvsh    = res_aniso['Rvsh'].values\n",
    "Rhsh    = res_aniso['Rhsh'].values\n",
    "\n",
    "Rv_sim = (Csh_pred*Rvsh + (1-Csh_pred)*Rss_pred)\n",
    "Rh_sim = 1/(Csh_pred/Rhsh + (1-Csh_pred)/Rss_pred)\n",
    "Rv_err = np.abs((Rv_sim - Rv_true)/Rv_true) * 100\n",
    "Rh_err = np.abs((Rh_sim - Rh_true)/Rh_true) * 100\n",
    "\n",
    "Csh_pred_norm = (Csh_pred - Csh_pred.min())/(Csh_pred.max() - Csh_pred.min())\n",
    "pinn_sol = pd.DataFrame({'Csh_pred':Csh_pred_norm, 'Rss_pred':Rss_pred, \n",
    "                         'Rv_sim':Rv_sim, 'Rh_sim':Rh_sim,\n",
    "                         'Rv_err':Rv_err, 'Rh_err':Rh_err}, \n",
    "                         index=res_aniso.index)\n",
    "\n",
    "quad_sol = newton_inversion(res_aniso)\n",
    "\n",
    "results = pd.concat([data_all, pinn_sol, quad_sol], axis=1)\n",
    "results.to_csv('results/pinn_solution_all.csv', index=True)\n",
    "error_metrics(results)"
   ]
  },
  {
   "cell_type": "markdown",
   "metadata": {},
   "source": [
    "***\n",
    "## Cases"
   ]
  },
  {
   "cell_type": "code",
   "execution_count": null,
   "metadata": {},
   "outputs": [],
   "source": [
    "field1_model      = ResInvPINN(hidden_dim=150).to(device)\n",
    "field1_model.load_state_dict(torch.load('models/model_field1.pth'))\n",
    "field1_results    = pd.read_csv('results/pinn_solution_field1.csv', index_col=0)\n",
    "field1_gb_results = pd.read_csv('results/gradient_based_solution_field1.csv', index_col=0)\n",
    "field1_data       = lasio.read('cases/well1.las').df().loc[field1_results.index]\n",
    "field1_all        = field1_data.merge(field1_results).set_index(field1_results.index)\n",
    "\n",
    "field2_model       = ResInvPINN(hidden_dim=150).to(device)\n",
    "field2_model.load_state_dict(torch.load('models/model_field2.pth'))\n",
    "field2_results     = pd.read_csv('results/pinn_solution_field2.csv', index_col=0)\n",
    "field2_gb_results  = pd.read_csv('results/gradient_based_solution_field2.csv', index_col=0)\n",
    "field2_data        = lasio.read('cases/well2.LAS').df().loc[field2_results.index]\n",
    "field2_all         = field2_data.merge(field2_results).set_index(field2_results.index)\n",
    "\n",
    "synth1_model       = ResInvPINN(hidden_dim=150).to(device)\n",
    "synth1_model.load_state_dict(torch.load('models/model_synthetic1.pth'))\n",
    "synth1_results     = pd.read_csv('results/pinn_solution_synthetic1.csv', index_col=0)\n",
    "synth1_gb_results  = pd.read_csv('results/gradient_based_solution_synthetic1.csv', index_col=0).iloc[22:]\n",
    "synthetic1_data     = lasio.read('cases/Case1.las').df().join(lasio.read('cases/Case1_RvRh.las').df()).loc[synth1_results.index]\n",
    "synthetic1_all     = synthetic1_data.merge(synth1_results, left_index=True, right_index=True)\n",
    "\n",
    "synth2_model       = ResInvPINN(hidden_dim=150).to(device)\n",
    "synth2_model.load_state_dict(torch.load('models/model_synthetic2.pth'))\n",
    "synth2_results     = pd.read_csv('results/pinn_solution_synthetic2.csv', index_col=0)\n",
    "synth2_gb_results  = pd.read_csv('results/gradient_based_solution_synthetic2.csv', index_col=0)\n",
    "synthetic2_data    = lasio.read('cases/Case2.las').df().loc[synth2_results.index]\n",
    "synthetic2_all     = synthetic2_data.merge(synth2_results).set_index(synth2_results.index)"
   ]
  },
  {
   "cell_type": "code",
   "execution_count": null,
   "metadata": {},
   "outputs": [],
   "source": [
    "s = 'field1'\n",
    "plot_pinn_results(field1_results, suptitle=s)\n",
    "plot_pinn_gb_comparison(field1_all, field1_gb_results, suptitle=s)"
   ]
  },
  {
   "cell_type": "code",
   "execution_count": null,
   "metadata": {},
   "outputs": [],
   "source": [
    "s = 'field2'\n",
    "plot_pinn_results(field2_results, suptitle=s)\n",
    "plot_pinn_gb_comparison(field2_all, field2_gb_results, suptitle=s)"
   ]
  },
  {
   "cell_type": "code",
   "execution_count": null,
   "metadata": {},
   "outputs": [],
   "source": [
    "s = 'Synthetic Case 1 (Laminated)'\n",
    "plot_pinn_results(synth1_results, figsize=(12,12), suptitle=s)\n",
    "plot_pinn_gb_comparison(synthetic1_all, synth1_gb_results, suptitle=s)"
   ]
  },
  {
   "cell_type": "code",
   "execution_count": null,
   "metadata": {},
   "outputs": [],
   "source": [
    "s = 'Synthetic Case 2 (Laminated + Dispersed)'\n",
    "plot_pinn_results(synth2_results, suptitle=s, at_flag=False)\n",
    "plot_pinn_gb_comparison(synthetic2_all, synth2_gb_results, suptitle=s, at_flag=False)"
   ]
  },
  {
   "cell_type": "markdown",
   "metadata": {},
   "source": [
    "***\n",
    "# END"
   ]
  }
 ],
 "metadata": {
  "kernelspec": {
   "display_name": "deep",
   "language": "python",
   "name": "python3"
  },
  "language_info": {
   "codemirror_mode": {
    "name": "ipython",
    "version": 3
   },
   "file_extension": ".py",
   "mimetype": "text/x-python",
   "name": "python",
   "nbconvert_exporter": "python",
   "pygments_lexer": "ipython3",
   "version": "3.12.11"
  }
 },
 "nbformat": 4,
 "nbformat_minor": 2
}
