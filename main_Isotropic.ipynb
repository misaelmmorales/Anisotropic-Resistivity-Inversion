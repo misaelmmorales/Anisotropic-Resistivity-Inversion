{
 "cells": [
  {
   "cell_type": "code",
   "execution_count": null,
   "metadata": {},
   "outputs": [],
   "source": [
    "from main import *\n",
    "\n",
    "check_torch()\n",
    "device = torch.device(\"cuda\" if torch.cuda.is_available() else \"cpu\")\n",
    "case1, case2, synthetic1, synthetic2 = load_all_data()"
   ]
  },
  {
   "cell_type": "code",
   "execution_count": null,
   "metadata": {},
   "outputs": [],
   "source": [
    "def error_metrics(df):\n",
    "    mse_rv = mean_squared_error(df['Rv'], df['Rv_sim'])\n",
    "    mse_rh = mean_squared_error(df['Rh'], df['Rh_sim'])\n",
    "    r2_rv = r2_score(df['Rv'], df['Rv_sim'])*100\n",
    "    r2_rh = r2_score(df['Rh'], df['Rh_sim'])*100\n",
    "    sterr_rv = np.mean(np.abs(df['Rv']-df['Rv_sim'])) / np.std(np.abs(df['Rv']-df['Rv_sim']))\n",
    "    sterr_rh = np.mean(np.abs(df['Rh']-df['Rh_sim'])) / np.std(np.abs(df['Rh']-df['Rh_sim']))\n",
    "    mape_rv = mean_absolute_percentage_error(df['Rv'], df['Rv_sim']) * 100\n",
    "    mape_rh = mean_absolute_percentage_error(df['Rh'], df['Rh_sim']) * 100\n",
    "    print('Mean Squared Error - Rv: {:.4f}  | Rh: {:.4f}'.format(mse_rv, mse_rh))\n",
    "    print('R2 Score           - Rv: {:.3f}  | Rh: {:.3f}'.format(r2_rv, r2_rh))\n",
    "    print('Standard Error     - Rv: {:.4f}  | Rh: {:.4f}'.format(sterr_rv, sterr_rh))\n",
    "    print('MAPE               - Rv: {:.3f}%  | Rh: {:.3f}%'.format(mape_rv, mape_rh))\n",
    "    return None"
   ]
  },
  {
   "cell_type": "code",
   "execution_count": null,
   "metadata": {},
   "outputs": [],
   "source": [
    "well1 = case1[['GR', 'AT90', 'Rv','Rh']].dropna()\n",
    "well1['Csh_lin'] = ((well1['GR'] - well1['GR'].min()) / (well1['GR'].max() - well1['GR'].min()))\n",
    "well1['Csh_lin'] = np.clip(well1['Csh_lin'], 0.025, 0.975)"
   ]
  },
  {
   "cell_type": "code",
   "execution_count": null,
   "metadata": {},
   "outputs": [],
   "source": [
    "fig, axs = plt.subplots(1, 3, figsize=(10,7), sharey=True)\n",
    "ax1, ax2, ax3 = axs\n",
    "\n",
    "ax11 = ax1.twiny()\n",
    "ax31 = ax3.twiny()\n",
    "\n",
    "plot_curve(ax1, well1, 'GR', 0, 120, 'g')\n",
    "plot_curve(ax11, well1, 'Csh_lin', -0.05, 1.05, 'r', pad=8)\n",
    "plot_curve(ax2, well1, 'AT90', 0.2, 80, 'r', semilog=True)\n",
    "plot_curve(ax3, well1, 'Rv', 0.2, 80, 'darkred', semilog=True)\n",
    "plot_curve(ax31, well1, 'Rh', 0.2, 80, 'darkblue', semilog=True, pad=8)\n",
    "\n",
    "ax1.invert_yaxis()\n",
    "plt.tight_layout()\n",
    "plt.show()"
   ]
  },
  {
   "cell_type": "code",
   "execution_count": null,
   "metadata": {},
   "outputs": [],
   "source": [
    "def objective(variables, *args):\n",
    "    Rs = variables   \n",
    "    Rh, Rhsh, Csh = args[0], args[1], args[2]\n",
    "    loss = (Csh/Rhsh + (1-Csh)/Rs) - (1/Rh)\n",
    "    return linalg.norm(loss,2) + 1e-3*linalg.norm(variables,2)\n",
    "\n",
    "def jacobian(variables, *args):\n",
    "    return Jacobian(lambda x: objective(x, *args))(variables).ravel()\n",
    "\n",
    "def hessian(variables, *args):\n",
    "    return Hessian(lambda x: objective(x, *args))(variables)\n",
    "\n",
    "sol = []\n",
    "for i, row in well1.iterrows():\n",
    "    Rh_value   = row['AT90']\n",
    "    Rhsh_value = 1\n",
    "    Rvsh_value = 10\n",
    "    Csh_value  = row['Csh_lin'] #row['Csh_lin']\n",
    "\n",
    "    res = optimize.minimize(objective,\n",
    "                            x0          = 3,\n",
    "                            args        = (Rh_value, Rhsh_value, Csh_value),\n",
    "                            method      = 'L-BFGS-B',\n",
    "                            bounds      = [(1e-3, 100)],\n",
    "                            #jac         = jacobian,\n",
    "                            #hess        = hessian,\n",
    "                            tol         = 1e-6,\n",
    "                            options     = {'maxiter':200},\n",
    "                            )\n",
    "    Rss_pred = res.x.item()\n",
    "    sol.append({'RH':Rh_value, 'Csh_pred':Csh_value, 'Rss_pred':Rss_pred,\n",
    "                'fun':res.fun, 'nfev':res.nfev, 'jac_norm':linalg.norm(res.jac),\n",
    "                'Rh_sim': 1/(Csh_value/Rhsh_value + (1-Csh_value)/Rss_pred),\n",
    "                'Rv_sim': -3 + Csh_value*Rvsh_value + (1-Csh_value)*Rss_pred,\n",
    "                'Rh_err': 100*np.abs(Rh_value - 1/(Csh_value/Rhsh_value + (1-Csh_value)/Rss_pred))})\n",
    "    \n",
    "well1_gb = pd.DataFrame(sol, index=well1.index)\n",
    "well1_sol = well1.join(well1_gb)"
   ]
  },
  {
   "cell_type": "code",
   "execution_count": null,
   "metadata": {},
   "outputs": [],
   "source": [
    "true = well1['Rh']\n",
    "pred = well1_sol['Rh_sim']\n",
    "\n",
    "mse = mean_squared_error(true, pred)\n",
    "r2 = r2_score(true, pred)*100\n",
    "sterr = np.mean(np.abs(true-pred)) / np.std(np.abs(true-pred))\n",
    "mape = mean_absolute_percentage_error(true, pred) * 100\n",
    "print('MSE: {} | R2: {} | STERR: {} | MAPE: {}'.format(mse, r2, sterr, mape))"
   ]
  },
  {
   "cell_type": "code",
   "execution_count": null,
   "metadata": {},
   "outputs": [],
   "source": [
    "fig, axs = plt.subplots(1, 5, figsize=(20,10), sharey=True)\n",
    "ax1, ax2, ax3, ax4, ax5 = axs\n",
    "\n",
    "ax11 = ax1.twiny()\n",
    "ax21 = ax2.twiny()\n",
    "\n",
    "plot_curve(ax1, well1, 'GR', units='API', color='g', lb=0, ub=120)\n",
    "plot_curve(ax11, well1_sol, 'Csh_lin', units='/', color='r', lb=0, ub=1, pad=8)\n",
    "\n",
    "plot_curve(ax2, well1, 'AT90', units='ohm.m', color='k', lb=0.2, ub=80, semilog=True)\n",
    "plot_curve(ax21, well1_sol, 'Rss_pred', units='ohm.m', color='r', lb=0.2, ub=80, semilog=True, pad=8)\n",
    "\n",
    "ax31 = ax3.twiny()\n",
    "plot_curve(ax3, well1, 'Rv', units='ohm.m', color='darkred', lb=0.2, ub=80, semilog=True)\n",
    "plot_curve(ax31, well1_sol, 'Rv_sim', units='ohm.m', color='k', ls='--', lb=0.2, ub=80, semilog=True, pad=8)\n",
    "#plot_curve(ax42, well1_sol, 'Rv_err', units='%', color='firebrick', fill=True, lb=0, ub=5, pad=16)\n",
    "\n",
    "ax41 = ax4.twiny()\n",
    "plot_curve(ax4, well1, 'Rh', units='ohm.m', color='darkblue', lb=0.2, ub=80, semilog=True)\n",
    "plot_curve(ax41, well1_sol, 'Rh_sim', units='ohm.m', color='k', ls='--', lb=0.2, ub=80, semilog=True, pad=8)\n",
    "#plot_curve(ax52, well1_sol, 'Rh_err', units='%', color='navy', fill=True, lb=0, ub=100, pad=16)\n",
    "\n",
    "ax51, ax52 = ax5.twiny(), ax5.twiny()\n",
    "plot_curve(ax52, well1_sol, 'fun', units='-', color='k', lb=1e-9, ub=0.2, semilog=True)\n",
    "plot_curve(ax51, well1_sol, 'nfev', units='-', color='g', lb=40, ub=120, pad=8)\n",
    "plot_curve(ax5, well1_sol, 'jac_norm', units='-', color='purple', lb=1e-3, ub=1, semilog=True, pad=16)\n",
    "\n",
    "[a.grid(True, which='both', alpha=0.5) for a in axs]\n",
    "ax1.invert_yaxis()\n",
    "plt.tight_layout()\n",
    "plt.show()"
   ]
  },
  {
   "cell_type": "markdown",
   "metadata": {},
   "source": [
    "***\n",
    "# END"
   ]
  }
 ],
 "metadata": {
  "kernelspec": {
   "display_name": "rapid",
   "language": "python",
   "name": "python3"
  },
  "language_info": {
   "codemirror_mode": {
    "name": "ipython",
    "version": 3
   },
   "file_extension": ".py",
   "mimetype": "text/x-python",
   "name": "python",
   "nbconvert_exporter": "python",
   "pygments_lexer": "ipython3",
   "version": "3.11.9"
  }
 },
 "nbformat": 4,
 "nbformat_minor": 2
}
