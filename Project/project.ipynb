{
 "cells": [
  {
   "cell_type": "markdown",
   "metadata": {},
   "source": [
    "# PGE 385K - Adv. Multi-Well Formation Evaluation\n",
    "### Final Project\n",
    "### Misael Morales & Oriyomi Raheem\n",
    "***"
   ]
  },
  {
   "cell_type": "code",
   "execution_count": 1,
   "metadata": {},
   "outputs": [],
   "source": [
    "from project import *\n",
    "petro = Petrophysics()"
   ]
  },
  {
   "cell_type": "code",
   "execution_count": 3,
   "metadata": {},
   "outputs": [],
   "source": [
    "# petro.plot_full_log_8(apply_mask=True)\n",
    "# petro.plot_full_log_16(apply_mask=True)\n",
    "\n",
    "# petro.zonation()\n",
    "# petro.plot_zonation()\n",
    "\n",
    "# petro.plot_GRvAT90()\n",
    "# petro.plot_KvsTh()\n",
    "# petro.plot_GRvPEFvRHOB()\n",
    "# petro.plot_RHOB_NPHI()\n",
    "\n",
    "# petro.resistivity_inversion()\n",
    "# petro.plot_resistivity_inversion()\n",
    "\n",
    "# petro.plot_csh()\n",
    "# petro.plot_fpres()\n",
    "# petro.plot_phi()\n",
    "# petro.plot_phi_perm()\n",
    "# petro.plot_core_log_poro_perm()\n",
    "# petro.plot_thomas_stieber()\n",
    "# petro.plot_pickett()\n",
    "\n",
    "# petro.archie_sw()\n",
    "# petro.plot_archie_sw()\n",
    "\n",
    "# petro.leverett_class()\n",
    "# petro.winland_class()\n",
    "# petro.lorenz_class()\n",
    "# petro.plot_w16_classes()\n",
    "\n",
    "# petro.quantitative_por_perm_sw()\n",
    "# petro.leverett_j_function()\n",
    "\n",
    "# petro.mineral_inversion_08()\n",
    "# petro.mineral_inversion_16()\n",
    "# petro.well_to_well_correlation()\n",
    "\n",
    "# petro.plot_sonic_logs()\n",
    "# petro.biot_gassmann()"
   ]
  },
  {
   "cell_type": "markdown",
   "metadata": {},
   "source": [
    "***\n",
    "# END"
   ]
  }
 ],
 "metadata": {
  "kernelspec": {
   "display_name": "base",
   "language": "python",
   "name": "python3"
  },
  "language_info": {
   "codemirror_mode": {
    "name": "ipython",
    "version": 3
   },
   "file_extension": ".py",
   "mimetype": "text/x-python",
   "name": "python",
   "nbconvert_exporter": "python",
   "pygments_lexer": "ipython3",
   "version": "3.11.4"
  }
 },
 "nbformat": 4,
 "nbformat_minor": 2
}
